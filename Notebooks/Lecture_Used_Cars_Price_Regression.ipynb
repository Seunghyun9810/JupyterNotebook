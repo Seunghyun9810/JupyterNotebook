{
 "cells": [
  {
   "cell_type": "markdown",
   "id": "a8b0bce5",
   "metadata": {},
   "source": [
    "# Load Data"
   ]
  },
  {
   "cell_type": "code",
   "execution_count": 4,
   "id": "b7e2abad",
   "metadata": {},
   "outputs": [
    {
     "data": {
      "text/html": [
       "<div>\n",
       "<style scoped>\n",
       "    .dataframe tbody tr th:only-of-type {\n",
       "        vertical-align: middle;\n",
       "    }\n",
       "\n",
       "    .dataframe tbody tr th {\n",
       "        vertical-align: top;\n",
       "    }\n",
       "\n",
       "    .dataframe thead th {\n",
       "        text-align: right;\n",
       "    }\n",
       "</style>\n",
       "<table border=\"1\" class=\"dataframe\">\n",
       "  <thead>\n",
       "    <tr style=\"text-align: right;\">\n",
       "      <th></th>\n",
       "      <th>Name</th>\n",
       "      <th>Location</th>\n",
       "      <th>Year</th>\n",
       "      <th>Kilometers_Driven</th>\n",
       "      <th>Fuel_Type</th>\n",
       "      <th>Transmission</th>\n",
       "      <th>Owner_Type</th>\n",
       "      <th>Mileage</th>\n",
       "      <th>Engine</th>\n",
       "      <th>Power</th>\n",
       "      <th>Seats</th>\n",
       "      <th>New_Price</th>\n",
       "      <th>Price</th>\n",
       "    </tr>\n",
       "  </thead>\n",
       "  <tbody>\n",
       "    <tr>\n",
       "      <th>0</th>\n",
       "      <td>Maruti Wagon R LXI CNG</td>\n",
       "      <td>Mumbai</td>\n",
       "      <td>2010</td>\n",
       "      <td>72000</td>\n",
       "      <td>CNG</td>\n",
       "      <td>Manual</td>\n",
       "      <td>First</td>\n",
       "      <td>26.6 km/kg</td>\n",
       "      <td>998 CC</td>\n",
       "      <td>58.16 bhp</td>\n",
       "      <td>5.0</td>\n",
       "      <td>NaN</td>\n",
       "      <td>1.75</td>\n",
       "    </tr>\n",
       "    <tr>\n",
       "      <th>1</th>\n",
       "      <td>Hyundai Creta 1.6 CRDi SX Option</td>\n",
       "      <td>Pune</td>\n",
       "      <td>2015</td>\n",
       "      <td>41000</td>\n",
       "      <td>Diesel</td>\n",
       "      <td>Manual</td>\n",
       "      <td>First</td>\n",
       "      <td>19.67 kmpl</td>\n",
       "      <td>1582 CC</td>\n",
       "      <td>126.2 bhp</td>\n",
       "      <td>5.0</td>\n",
       "      <td>NaN</td>\n",
       "      <td>12.50</td>\n",
       "    </tr>\n",
       "    <tr>\n",
       "      <th>2</th>\n",
       "      <td>Honda Jazz V</td>\n",
       "      <td>Chennai</td>\n",
       "      <td>2011</td>\n",
       "      <td>46000</td>\n",
       "      <td>Petrol</td>\n",
       "      <td>Manual</td>\n",
       "      <td>First</td>\n",
       "      <td>18.2 kmpl</td>\n",
       "      <td>1199 CC</td>\n",
       "      <td>88.7 bhp</td>\n",
       "      <td>5.0</td>\n",
       "      <td>8.61 Lakh</td>\n",
       "      <td>4.50</td>\n",
       "    </tr>\n",
       "    <tr>\n",
       "      <th>3</th>\n",
       "      <td>Maruti Ertiga VDI</td>\n",
       "      <td>Chennai</td>\n",
       "      <td>2012</td>\n",
       "      <td>87000</td>\n",
       "      <td>Diesel</td>\n",
       "      <td>Manual</td>\n",
       "      <td>First</td>\n",
       "      <td>20.77 kmpl</td>\n",
       "      <td>1248 CC</td>\n",
       "      <td>88.76 bhp</td>\n",
       "      <td>7.0</td>\n",
       "      <td>NaN</td>\n",
       "      <td>6.00</td>\n",
       "    </tr>\n",
       "    <tr>\n",
       "      <th>4</th>\n",
       "      <td>Audi A4 New 2.0 TDI Multitronic</td>\n",
       "      <td>Coimbatore</td>\n",
       "      <td>2013</td>\n",
       "      <td>40670</td>\n",
       "      <td>Diesel</td>\n",
       "      <td>Automatic</td>\n",
       "      <td>Second</td>\n",
       "      <td>15.2 kmpl</td>\n",
       "      <td>1968 CC</td>\n",
       "      <td>140.8 bhp</td>\n",
       "      <td>5.0</td>\n",
       "      <td>NaN</td>\n",
       "      <td>17.74</td>\n",
       "    </tr>\n",
       "  </tbody>\n",
       "</table>\n",
       "</div>"
      ],
      "text/plain": [
       "                               Name    Location  Year  Kilometers_Driven  \\\n",
       "0            Maruti Wagon R LXI CNG      Mumbai  2010              72000   \n",
       "1  Hyundai Creta 1.6 CRDi SX Option        Pune  2015              41000   \n",
       "2                      Honda Jazz V     Chennai  2011              46000   \n",
       "3                 Maruti Ertiga VDI     Chennai  2012              87000   \n",
       "4   Audi A4 New 2.0 TDI Multitronic  Coimbatore  2013              40670   \n",
       "\n",
       "  Fuel_Type Transmission Owner_Type     Mileage   Engine      Power  Seats  \\\n",
       "0       CNG       Manual      First  26.6 km/kg   998 CC  58.16 bhp    5.0   \n",
       "1    Diesel       Manual      First  19.67 kmpl  1582 CC  126.2 bhp    5.0   \n",
       "2    Petrol       Manual      First   18.2 kmpl  1199 CC   88.7 bhp    5.0   \n",
       "3    Diesel       Manual      First  20.77 kmpl  1248 CC  88.76 bhp    7.0   \n",
       "4    Diesel    Automatic     Second   15.2 kmpl  1968 CC  140.8 bhp    5.0   \n",
       "\n",
       "   New_Price  Price  \n",
       "0        NaN   1.75  \n",
       "1        NaN  12.50  \n",
       "2  8.61 Lakh   4.50  \n",
       "3        NaN   6.00  \n",
       "4        NaN  17.74  "
      ]
     },
     "execution_count": 4,
     "metadata": {},
     "output_type": "execute_result"
    }
   ],
   "source": [
    "import pandas as pd\n",
    "import warnings\n",
    "\n",
    "warnings.filterwarnings('ignore')\n",
    "\n",
    "used = pd.read_csv('D:/JupyterProjects/Workspace/Practice/Data/Raw/used_car.csv',\n",
    "                   index_col='Unnamed: 0')\n",
    "used.head()"
   ]
  },
  {
   "cell_type": "markdown",
   "id": "b2f5d83c",
   "metadata": {},
   "source": [
    "# Preprocessing"
   ]
  },
  {
   "cell_type": "code",
   "execution_count": 5,
   "id": "256e35d2",
   "metadata": {},
   "outputs": [
    {
     "data": {
      "text/plain": [
       "Name                    0\n",
       "Location                0\n",
       "Year                    0\n",
       "Kilometers_Driven       0\n",
       "Fuel_Type               0\n",
       "Transmission            0\n",
       "Owner_Type              0\n",
       "Mileage                 2\n",
       "Engine                 36\n",
       "Power                 143\n",
       "Seats                  42\n",
       "New_Price            5195\n",
       "Price                   0\n",
       "dtype: int64"
      ]
     },
     "execution_count": 5,
     "metadata": {},
     "output_type": "execute_result"
    }
   ],
   "source": [
    "# check null counts\n",
    "used.isnull().sum()"
   ]
  },
  {
   "cell_type": "code",
   "execution_count": 7,
   "id": "00054dab",
   "metadata": {},
   "outputs": [],
   "source": [
    "# drop New_Price col\n",
    "used1 = used.drop(columns=['New_Price'])"
   ]
  },
  {
   "cell_type": "code",
   "execution_count": 8,
   "id": "a6876c0e",
   "metadata": {},
   "outputs": [],
   "source": [
    "# drop missing values from Mileage, Engine, Power columns\n",
    "used2 = used1.dropna(subset=['Mileage', 'Engine', 'Power'], ignore_index=True)"
   ]
  },
  {
   "cell_type": "code",
   "execution_count": 12,
   "id": "4a017c45",
   "metadata": {},
   "outputs": [],
   "source": [
    "# delete measurements from Mileage, Engine, Power columns\n",
    "def drop_measure(col):\n",
    "    return col.split(' ')[0]\n",
    "\n",
    "for col in ['Mileage', 'Engine', 'Power']:\n",
    "    used2[col] = used2[col].map(drop_measure)"
   ]
  },
  {
   "cell_type": "code",
   "execution_count": 13,
   "id": "04640c19",
   "metadata": {},
   "outputs": [
    {
     "name": "stdout",
     "output_type": "stream",
     "text": [
      "<class 'pandas.core.frame.DataFrame'>\n",
      "RangeIndex: 5874 entries, 0 to 5873\n",
      "Data columns (total 12 columns):\n",
      " #   Column             Non-Null Count  Dtype  \n",
      "---  ------             --------------  -----  \n",
      " 0   Name               5874 non-null   object \n",
      " 1   Location           5874 non-null   object \n",
      " 2   Year               5874 non-null   int64  \n",
      " 3   Kilometers_Driven  5874 non-null   int64  \n",
      " 4   Fuel_Type          5874 non-null   object \n",
      " 5   Transmission       5874 non-null   object \n",
      " 6   Owner_Type         5874 non-null   object \n",
      " 7   Mileage            5874 non-null   object \n",
      " 8   Engine             5874 non-null   object \n",
      " 9   Power              5874 non-null   object \n",
      " 10  Seats              5872 non-null   float64\n",
      " 11  Price              5874 non-null   float64\n",
      "dtypes: float64(2), int64(2), object(8)\n",
      "memory usage: 550.8+ KB\n"
     ]
    }
   ],
   "source": [
    "# check the dtype\n",
    "used2.info()"
   ]
  },
  {
   "cell_type": "code",
   "execution_count": 14,
   "id": "e19eb5b0",
   "metadata": {},
   "outputs": [],
   "source": [
    "# change Mileage, Engine, Power col dtype to float, int, float\n",
    "used2['Mileage'] = used2['Mileage'].astype(float)\n",
    "used2['Power'] = used2['Power'].astype(float)\n",
    "\n",
    "used2['Engine'] = used2['Engine'].astype(int)"
   ]
  },
  {
   "cell_type": "code",
   "execution_count": 23,
   "id": "77d3ae91",
   "metadata": {},
   "outputs": [
    {
     "name": "stdout",
     "output_type": "stream",
     "text": [
      "<class 'pandas.core.frame.DataFrame'>\n",
      "RangeIndex: 5874 entries, 0 to 5873\n",
      "Data columns (total 8 columns):\n",
      " #   Column             Non-Null Count  Dtype  \n",
      "---  ------             --------------  -----  \n",
      " 0   Year               5874 non-null   int64  \n",
      " 1   Kilometers_Driven  5874 non-null   int64  \n",
      " 2   Fuel_Type          5874 non-null   object \n",
      " 3   Transmission       5874 non-null   object \n",
      " 4   Mileage            5874 non-null   float64\n",
      " 5   Engine             5874 non-null   int64  \n",
      " 6   Power              5874 non-null   float64\n",
      " 7   Price              5874 non-null   float64\n",
      "dtypes: float64(3), int64(3), object(2)\n",
      "memory usage: 367.3+ KB\n"
     ]
    }
   ],
   "source": [
    "# drop unnecessary columns for machine learning\n",
    "used3 = used2.drop(columns=['Name', 'Location', 'Owner_Type', 'Seats'])\n",
    "used3.info()"
   ]
  },
  {
   "cell_type": "code",
   "execution_count": 20,
   "id": "39807871",
   "metadata": {},
   "outputs": [],
   "source": [
    "# remove outliers\n",
    "def remove_outliers(df, col):\n",
    "    q1 = df[col].quantile(0.25)\n",
    "    q3 = df[col].quantile(0.75)\n",
    "    iqr = q3 - q1\n",
    "    \n",
    "    condition = (df[col] < (q1 - 1.5 * iqr)) | (df[col] > (q3 + 1.5 * iqr))\n",
    "    outlier_index = df.loc[condition, col].index\n",
    "    \n",
    "    if len(outlier_index) > 0:\n",
    "        cleaned_col = df[col].drop(outlier_index)\n",
    "        return cleaned_col\n",
    "    else:\n",
    "        print('No Outliers')"
   ]
  },
  {
   "cell_type": "code",
   "execution_count": 24,
   "id": "7f58f5b1",
   "metadata": {},
   "outputs": [],
   "source": [
    "cleaned_cols =[]\n",
    "\n",
    "for col in ['Year', 'Kilometers_Driven', 'Mileage', 'Engine', 'Power']:\n",
    "    cleaned_col = remove_outliers(used3, col)\n",
    "    cleaned_cols.append(cleaned_col)"
   ]
  },
  {
   "cell_type": "code",
   "execution_count": 25,
   "id": "57caaa97",
   "metadata": {},
   "outputs": [
    {
     "name": "stdout",
     "output_type": "stream",
     "text": [
      "<class 'pandas.core.frame.DataFrame'>\n",
      "RangeIndex: 5292 entries, 0 to 5291\n",
      "Data columns (total 8 columns):\n",
      " #   Column             Non-Null Count  Dtype  \n",
      "---  ------             --------------  -----  \n",
      " 0   Year               5292 non-null   int64  \n",
      " 1   Kilometers_Driven  5292 non-null   int64  \n",
      " 2   Fuel_Type          5292 non-null   object \n",
      " 3   Transmission       5292 non-null   object \n",
      " 4   Mileage            5292 non-null   float64\n",
      " 5   Engine             5292 non-null   int64  \n",
      " 6   Power              5292 non-null   float64\n",
      " 7   Price              5292 non-null   float64\n",
      "dtypes: float64(3), int64(3), object(2)\n",
      "memory usage: 330.9+ KB\n"
     ]
    }
   ],
   "source": [
    "# create new cleaned table\n",
    "used4 = pd.concat([cleaned_cols[0],\n",
    "                 cleaned_cols[1], \n",
    "                 used3['Fuel_Type'], \n",
    "                 used3['Transmission'],\n",
    "                 cleaned_cols[2], \n",
    "                 cleaned_cols[3],\n",
    "                 cleaned_cols[4],\n",
    "                 used3['Price']],\n",
    "                 axis=1,\n",
    "                 join='inner').reset_index(drop=True)\n",
    "used4.info()"
   ]
  },
  {
   "cell_type": "code",
   "execution_count": 26,
   "id": "77972fb9",
   "metadata": {},
   "outputs": [
    {
     "name": "stdout",
     "output_type": "stream",
     "text": [
      "Fuel type: ['CNG' 'Diesel' 'Petrol' 'LPG']\n",
      "Transmission: ['Manual' 'Automatic']\n"
     ]
    }
   ],
   "source": [
    "# label encoding\n",
    "print(f'Fuel type: {used4['Fuel_Type'].unique()}')\n",
    "print(f'Transmission: {used4['Transmission'].unique()}')"
   ]
  },
  {
   "cell_type": "code",
   "execution_count": 28,
   "id": "82f6a568",
   "metadata": {},
   "outputs": [
    {
     "name": "stdout",
     "output_type": "stream",
     "text": [
      "<class 'pandas.core.frame.DataFrame'>\n",
      "RangeIndex: 5292 entries, 0 to 5291\n",
      "Data columns (total 8 columns):\n",
      " #   Column             Non-Null Count  Dtype  \n",
      "---  ------             --------------  -----  \n",
      " 0   Year               5292 non-null   int64  \n",
      " 1   Kilometers_Driven  5292 non-null   int64  \n",
      " 2   Fuel_Type          5292 non-null   int64  \n",
      " 3   Transmission       5292 non-null   int64  \n",
      " 4   Mileage            5292 non-null   float64\n",
      " 5   Engine             5292 non-null   int64  \n",
      " 6   Power              5292 non-null   float64\n",
      " 7   Price              5292 non-null   float64\n",
      "dtypes: float64(3), int64(5)\n",
      "memory usage: 330.9 KB\n"
     ]
    }
   ],
   "source": [
    "used5 = used4.replace({'CNG': 0,\n",
    "                     'Diesel': 1,\n",
    "                     'LPG': 2,\n",
    "                     'Petrol': 3,\n",
    "                     'Automatic': 0,\n",
    "                     'Manual': 1})\n",
    "used5.info()"
   ]
  },
  {
   "cell_type": "code",
   "execution_count": 29,
   "id": "5b2fa6ac",
   "metadata": {},
   "outputs": [
    {
     "name": "stdout",
     "output_type": "stream",
     "text": [
      "<class 'pandas.core.frame.DataFrame'>\n",
      "RangeIndex: 5874 entries, 0 to 5873\n",
      "Data columns (total 8 columns):\n",
      " #   Column             Non-Null Count  Dtype  \n",
      "---  ------             --------------  -----  \n",
      " 0   Year               5874 non-null   int64  \n",
      " 1   Kilometers_Driven  5874 non-null   int64  \n",
      " 2   Fuel_Type          5874 non-null   int64  \n",
      " 3   Transmission       5874 non-null   int64  \n",
      " 4   Mileage            5874 non-null   float64\n",
      " 5   Engine             5874 non-null   int64  \n",
      " 6   Power              5874 non-null   float64\n",
      " 7   Price              5874 non-null   float64\n",
      "dtypes: float64(3), int64(5)\n",
      "memory usage: 367.3 KB\n"
     ]
    }
   ],
   "source": [
    "# label encode df with outliers\n",
    "used6 = used3.replace({'CNG': 0,\n",
    "                     'Diesel': 1,\n",
    "                     'LPG': 2,\n",
    "                     'Petrol': 3,\n",
    "                     'Automatic': 0,\n",
    "                     'Manual': 1})\n",
    "used6.info()"
   ]
  },
  {
   "cell_type": "code",
   "execution_count": 31,
   "id": "6e3ca93b",
   "metadata": {},
   "outputs": [],
   "source": [
    "# save 2 df on local folders\n",
    "file_path1 = 'D:/JupyterProjects/Workspace/Practice/Data/Cleaned/used_car_cleaned.csv'\n",
    "file_path2 = 'D:/JupyterProjects/Workspace/Practice/Data/Cleaned/used_car_outliers.csv'\n",
    "\n",
    "used5.to_csv(file_path1, index=False)\n",
    "used6.to_csv(file_path2, index=False)"
   ]
  },
  {
   "cell_type": "markdown",
   "id": "f356c4d5",
   "metadata": {},
   "source": [
    "# Load cleaned datasets"
   ]
  },
  {
   "cell_type": "code",
   "execution_count": 32,
   "id": "ac09b318",
   "metadata": {},
   "outputs": [],
   "source": [
    "df1 = pd.read_csv('D:/JupyterProjects/Workspace/Practice/Data/Cleaned/used_car_cleaned.csv')\n",
    "df2 = pd.read_csv('D:/JupyterProjects/Workspace/Practice/Data/Cleaned/used_car_outliers.csv')"
   ]
  },
  {
   "cell_type": "markdown",
   "id": "0fc042d0",
   "metadata": {},
   "source": [
    "# Split data into train data and test data"
   ]
  },
  {
   "cell_type": "code",
   "execution_count": 33,
   "id": "47ba076e",
   "metadata": {},
   "outputs": [],
   "source": [
    "from sklearn.model_selection import train_test_split\n",
    "\n",
    "X1_data = df1.iloc[:, :-1]\n",
    "X2_data = df2.iloc[:, :-1]\n",
    "y1_data = df1['Price']\n",
    "y2_data = df2['Price']\n",
    "\n",
    "X1_train, X1_test, y1_train, y1_test = train_test_split(X1_data,\n",
    "                                                        y1_data,\n",
    "                                                        test_size=.2,\n",
    "                                                        random_state=0)\n",
    "\n",
    "X2_train, X2_test, y2_train, y2_test = train_test_split(X2_data,\n",
    "                                                        y2_data,\n",
    "                                                        test_size=.2,\n",
    "                                                        random_state=0)"
   ]
  },
  {
   "cell_type": "code",
   "execution_count": null,
   "id": "33c20cf1",
   "metadata": {},
   "outputs": [],
   "source": []
  }
 ],
 "metadata": {
  "kernelspec": {
   "display_name": "ML",
   "language": "python",
   "name": "ml"
  },
  "language_info": {
   "codemirror_mode": {
    "name": "ipython",
    "version": 3
   },
   "file_extension": ".py",
   "mimetype": "text/x-python",
   "name": "python",
   "nbconvert_exporter": "python",
   "pygments_lexer": "ipython3",
   "version": "3.13.2"
  }
 },
 "nbformat": 4,
 "nbformat_minor": 5
}
